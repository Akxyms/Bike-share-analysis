{
 "cells": [
  {
   "cell_type": "markdown",
   "id": "e045c760",
   "metadata": {
    "execution": {
     "iopub.execute_input": "2021-05-26T23:14:28.576133Z",
     "iopub.status.busy": "2021-05-26T23:14:28.574429Z",
     "iopub.status.idle": "2021-05-26T23:14:28.597461Z"
    },
    "papermill": {
     "duration": 0.038402,
     "end_time": "2023-01-30T16:00:06.134249",
     "exception": false,
     "start_time": "2023-01-30T16:00:06.095847",
     "status": "completed"
    },
    "tags": []
   },
   "source": [
    "<a id=\"Introduction\"></a>\n",
    "# Introduction\n",
    "\n",
    "This is my version of the Google Data Analytics Capstone - Case Study 1. The full document to the case study can be found in the [Google Data Analytics Capstone: Complete a Case Study](https://www.coursera.org/learn/google-data-analytics-capstone) course.\n",
    "\n",
    "For this project this steps will be followed to ensure its completion:\n",
    "* It will follow the steps of the data analysis process: Ask, prepare, process, analyze, share, and act.\n",
    "* Each step will follow its own roadmap with:\n",
    "    * Code, if needed on the step.\n",
    "    * Guiding questions, with answers.\n",
    "    * Key tasks, as a checklist.\n",
    "    * Deliverable, as a checklist.\n"
   ]
  },
  {
   "cell_type": "markdown",
   "id": "c6674034",
   "metadata": {
    "papermill": {
     "duration": 0.034443,
     "end_time": "2023-01-30T16:00:06.204306",
     "exception": false,
     "start_time": "2023-01-30T16:00:06.169863",
     "status": "completed"
    },
    "tags": []
   },
   "source": [
    "<a id=\"ask\"></a>\n",
    "# Ask\n",
    "\n",
    "For the ask step, first let's get some context from the cyclistic document:\n",
    "\n",
    "    Scenario\n",
    "    \n",
    "    You are a junior data analyst working in the marketing analyst team at Cyclistic, a bike-share company in Chicago. The director of marketing believes the company’s future success depends on maximizing the number of annual memberships. Therefore, your team wants to understand how casual riders and annual members use Cyclistic bikes differently. From these insights, your team will design a new marketing strategy to convert casual riders into annual members. But first, Cyclistic executives must approve your recommendations, so they must be backed up with compelling data insights and professional data visualizations.\n",
    "    \n",
    "    Characters and teams\n",
    "● Cyclistic: A bike-share program that features more than 5,800 bicycles and 600 docking stations. Cyclistic sets itself apart by also offering reclining bikes, hand tricycles, and cargo bikes, making bike-share more inclusive to people with disabilities and riders who can’t use a standard two-wheeled bike. The majority of riders opt for traditional bikes; about 8% of riders use the assistive options. Cyclistic users are more likely to ride for leisure, but about 30% use them to commute to work each day.\n",
    "\n",
    "● Lily Moreno: The director of marketing and your manager. Moreno is responsible for the development of campaigns and initiatives to promote the bike-share program. These may include email, social media, and other channels.\n",
    "\n",
    "● Cyclistic marketing analytics team: A team of data analysts who are responsible for collecting, analyzing, and reporting data that helps guide Cyclistic marketing strategy. You joined this team six months ago and have been busy learning about Cyclistic’s mission and business goals — as well as how you, as a junior data analyst, can help Cyclistic achieve them.\n",
    "\n",
    "● Cyclistic executive team: The notoriously detail-oriented executive team will decide whether to approve the recommended marketing program.\n",
    "    \n"
   ]
  },
  {
   "cell_type": "markdown",
   "id": "9096f705",
   "metadata": {
    "execution": {
     "iopub.execute_input": "2021-05-26T23:38:29.175737Z",
     "iopub.status.busy": "2021-05-26T23:38:29.173599Z",
     "iopub.status.idle": "2021-05-26T23:38:29.192519Z"
    },
    "papermill": {
     "duration": 0.03544,
     "end_time": "2023-01-30T16:00:06.273595",
     "exception": false,
     "start_time": "2023-01-30T16:00:06.238155",
     "status": "completed"
    },
    "tags": []
   },
   "source": [
    "<a id=\"ask-guiding\"></a>\n",
    "## Guiding questions\n",
    "\n",
    "* **What is the problem you are trying to solve?**\n",
    "\n",
    "The main objective is to determine a way to build a profile for annual members and the best marketing strategies to turn casual bike riders into annual members.\n",
    "    \n",
    "* **How can your insights drive business decisions?**\n",
    "\n",
    "The insights will help the marketing team to increase annual members.\n",
    "    "
   ]
  },
  {
   "cell_type": "markdown",
   "id": "987cdaab",
   "metadata": {
    "execution": {
     "iopub.execute_input": "2021-05-26T23:44:00.685499Z",
     "iopub.status.busy": "2021-05-26T23:44:00.68334Z",
     "iopub.status.idle": "2021-05-26T23:44:00.735538Z"
    },
    "papermill": {
     "duration": 0.033742,
     "end_time": "2023-01-30T16:00:06.341027",
     "exception": false,
     "start_time": "2023-01-30T16:00:06.307285",
     "status": "completed"
    },
    "tags": []
   },
   "source": [
    "<a id=\"ask-key\"></a>\n",
    "## Key tasks\n",
    "\n",
    "- [x] Identify the business task\n",
    "- [x] Consider key stakeholders"
   ]
  },
  {
   "cell_type": "markdown",
   "id": "ed8f7352",
   "metadata": {
    "execution": {
     "iopub.execute_input": "2021-05-26T23:46:04.486724Z",
     "iopub.status.busy": "2021-05-26T23:46:04.484497Z",
     "iopub.status.idle": "2021-05-26T23:46:04.609649Z"
    },
    "papermill": {
     "duration": 0.033509,
     "end_time": "2023-01-30T16:00:06.407910",
     "exception": false,
     "start_time": "2023-01-30T16:00:06.374401",
     "status": "completed"
    },
    "tags": []
   },
   "source": [
    "<a id=\"ask-deliverable\"></a>\n",
    "## Deliverable\n",
    "\n",
    "- [x] A clear statement of the business task\n",
    "    \n",
    "    Find the keys differences between casual and members riders and how digital midia could influence them"
   ]
  },
  {
   "cell_type": "markdown",
   "id": "4323affd",
   "metadata": {
    "execution": {
     "iopub.execute_input": "2021-05-26T23:47:08.666215Z",
     "iopub.status.busy": "2021-05-26T23:47:08.664228Z",
     "iopub.status.idle": "2021-05-26T23:47:08.685207Z"
    },
    "papermill": {
     "duration": 0.034572,
     "end_time": "2023-01-30T16:00:06.475983",
     "exception": false,
     "start_time": "2023-01-30T16:00:06.441411",
     "status": "completed"
    },
    "tags": []
   },
   "source": [
    "<a id=\"prepare\"></a>\n",
    "# Prepare\n",
    "\n",
    "The project will use the data provided by Google provided their [own link](https://divvy-tripdata.s3.amazonaws.com/index.html) with the same dataset but expanded with more years and station descriptions.\n"
   ]
  },
  {
   "cell_type": "markdown",
   "id": "47e2d55e",
   "metadata": {
    "papermill": {
     "duration": 0.034483,
     "end_time": "2023-01-30T16:00:06.544594",
     "exception": false,
     "start_time": "2023-01-30T16:00:06.510111",
     "status": "completed"
    },
    "tags": []
   },
   "source": [
    "<a id=\"prepare-guiding\"></a>\n",
    "## Guiding questions\n",
    "\n",
    "* **Where is your data located?**\n",
    "\n",
    "The data is located in a kaggle dataset also in google  own link.\n",
    "\n",
    "* **How is the data organized?**\n",
    "\n",
    "The data is separated by month, each on it's own csv.\n",
    "\n",
    "* **Are there issues with bias or credibility in this data? Does your data ROCCC?**\n",
    "\n",
    "Bias isn't a problem, the population of the dataset is it's own clients as bike riders. And have full credibility for the same reason. And finally, it's ROCCC because it's reliable, original, comprehensive, current and cited.\n",
    "\n",
    "* **How are you addressing licensing, privacy, security, and accessibility?**\n",
    "\n",
    "The company has  their own licence over the dataset. Besides that, the dataset doesn't have any personal information about the riders.\n",
    "\n",
    "* **How did you verify the data’s integrity?**\n",
    "\n",
    "All the files have consistent columns and each column has the correct type of data.\n",
    "\n",
    "* **How does it help you answer your question?**\n",
    "\n",
    "It may have some key insights about the riders and their riding style\n",
    "\n",
    "* **Are there any problems with the data?**\n",
    "\n",
    "It would be good to have some updated information about the bike stations. Also more information about the riders could be useful."
   ]
  },
  {
   "cell_type": "markdown",
   "id": "487e8ab5",
   "metadata": {
    "execution": {
     "iopub.execute_input": "2021-05-27T00:07:35.89933Z",
     "iopub.status.busy": "2021-05-27T00:07:35.893873Z",
     "iopub.status.idle": "2021-05-27T00:07:35.940877Z"
    },
    "papermill": {
     "duration": 0.034525,
     "end_time": "2023-01-30T16:00:06.613009",
     "exception": false,
     "start_time": "2023-01-30T16:00:06.578484",
     "status": "completed"
    },
    "tags": []
   },
   "source": [
    " <a id=\"prepare-key\"></a>\n",
    " ## Key tasks\n",
    "\n",
    "- [x] Download data and store it appropriately.\n",
    "- [x] Identify how it’s organized.\n",
    "- [x] Sort and filter the data.\n",
    "- [x] Determine the credibility of the data."
   ]
  },
  {
   "cell_type": "markdown",
   "id": "73feb726",
   "metadata": {
    "papermill": {
     "duration": 0.03581,
     "end_time": "2023-01-30T16:00:06.682591",
     "exception": false,
     "start_time": "2023-01-30T16:00:06.646781",
     "status": "completed"
    },
    "tags": []
   },
   "source": [
    "<a id=\"prepare-deliverable\"></a>\n",
    "## Deliverable\n",
    "\n",
    "- [x] A description of all data sources used\n",
    "\n",
    "The main data source is 12 months (Between april 2021 and march 2022) of riding data provided by the Cicylistic company."
   ]
  },
  {
   "cell_type": "markdown",
   "id": "8186142d",
   "metadata": {
    "execution": {
     "iopub.execute_input": "2021-05-27T00:11:00.234224Z",
     "iopub.status.busy": "2021-05-27T00:11:00.228627Z",
     "iopub.status.idle": "2021-05-27T00:11:00.271782Z"
    },
    "papermill": {
     "duration": 0.03436,
     "end_time": "2023-01-30T16:00:06.750494",
     "exception": false,
     "start_time": "2023-01-30T16:00:06.716134",
     "status": "completed"
    },
    "tags": []
   },
   "source": [
    "<a id=\"process\"></a>\n",
    "# Process\n",
    "\n",
    "This step will prepare the data for analysis. All the csv files will be merged into one file to improve workflow"
   ]
  },
  {
   "cell_type": "markdown",
   "id": "33391dd7",
   "metadata": {
    "papermill": {
     "duration": 0.033452,
     "end_time": "2023-01-30T16:00:06.817788",
     "exception": false,
     "start_time": "2023-01-30T16:00:06.784336",
     "status": "completed"
    },
    "tags": []
   },
   "source": [
    "<a id=\"process-code\"></a>\n",
    "## Code"
   ]
  },
  {
   "cell_type": "markdown",
   "id": "cdc5a769",
   "metadata": {
    "papermill": {
     "duration": 0.035253,
     "end_time": "2023-01-30T16:00:06.886552",
     "exception": false,
     "start_time": "2023-01-30T16:00:06.851299",
     "status": "completed"
    },
    "tags": []
   },
   "source": [
    "<a id=\"process-code-dependences\"></a>\n",
    "### Dependences\n",
    "\n",
    "The main dependencie for the project will be tidyverse."
   ]
  },
  {
   "cell_type": "code",
   "execution_count": 1,
   "id": "5968571d",
   "metadata": {
    "execution": {
     "iopub.execute_input": "2023-01-30T16:00:06.962510Z",
     "iopub.status.busy": "2023-01-30T16:00:06.959837Z",
     "iopub.status.idle": "2023-01-30T16:00:08.598249Z",
     "shell.execute_reply": "2023-01-30T16:00:08.596326Z"
    },
    "papermill": {
     "duration": 1.677212,
     "end_time": "2023-01-30T16:00:08.598436",
     "exception": false,
     "start_time": "2023-01-30T16:00:06.921224",
     "status": "completed"
    },
    "tags": []
   },
   "outputs": [
    {
     "name": "stderr",
     "output_type": "stream",
     "text": [
      "── \u001b[1mAttaching packages\u001b[22m ─────────────────────────────────────── tidyverse 1.3.0 ──\n",
      "\n",
      "\u001b[32m✔\u001b[39m \u001b[34mggplot2\u001b[39m 3.3.3     \u001b[32m✔\u001b[39m \u001b[34mpurrr  \u001b[39m 0.3.4\n",
      "\u001b[32m✔\u001b[39m \u001b[34mtibble \u001b[39m 3.1.1     \u001b[32m✔\u001b[39m \u001b[34mdplyr  \u001b[39m 1.0.5\n",
      "\u001b[32m✔\u001b[39m \u001b[34mtidyr  \u001b[39m 1.1.3     \u001b[32m✔\u001b[39m \u001b[34mstringr\u001b[39m 1.4.0\n",
      "\u001b[32m✔\u001b[39m \u001b[34mreadr  \u001b[39m 1.4.0     \u001b[32m✔\u001b[39m \u001b[34mforcats\u001b[39m 0.5.0\n",
      "\n",
      "── \u001b[1mConflicts\u001b[22m ────────────────────────────────────────── tidyverse_conflicts() ──\n",
      "\u001b[31m✖\u001b[39m \u001b[34mdplyr\u001b[39m::\u001b[32mfilter()\u001b[39m masks \u001b[34mstats\u001b[39m::filter()\n",
      "\u001b[31m✖\u001b[39m \u001b[34mdplyr\u001b[39m::\u001b[32mlag()\u001b[39m    masks \u001b[34mstats\u001b[39m::lag()\n",
      "\n",
      "\n",
      "Attaching package: ‘lubridate’\n",
      "\n",
      "\n",
      "The following objects are masked from ‘package:base’:\n",
      "\n",
      "    date, intersect, setdiff, union\n",
      "\n",
      "\n",
      "\n",
      "Attaching package: ‘janitor’\n",
      "\n",
      "\n",
      "The following objects are masked from ‘package:stats’:\n",
      "\n",
      "    chisq.test, fisher.test\n",
      "\n",
      "\n"
     ]
    }
   ],
   "source": [
    "library(tidyverse)\n",
    "library(ggplot2)\n",
    "library(lubridate)\n",
    "library(janitor)"
   ]
  },
  {
   "cell_type": "markdown",
   "id": "a4e0bdaa",
   "metadata": {
    "papermill": {
     "duration": 0.035818,
     "end_time": "2023-01-30T16:00:08.670994",
     "exception": false,
     "start_time": "2023-01-30T16:00:08.635176",
     "status": "completed"
    },
    "tags": []
   },
   "source": [
    "## Import Data "
   ]
  },
  {
   "cell_type": "code",
   "execution_count": 2,
   "id": "b04b1e3c",
   "metadata": {
    "execution": {
     "iopub.execute_input": "2023-01-30T16:00:08.788417Z",
     "iopub.status.busy": "2023-01-30T16:00:08.749023Z",
     "iopub.status.idle": "2023-01-30T16:04:52.254511Z",
     "shell.execute_reply": "2023-01-30T16:04:52.253158Z"
    },
    "papermill": {
     "duration": 283.546282,
     "end_time": "2023-01-30T16:04:52.254785",
     "exception": false,
     "start_time": "2023-01-30T16:00:08.708503",
     "status": "completed"
    },
    "tags": []
   },
   "outputs": [],
   "source": [
    "df1<- read.csv(\"../input/divvy-tripdata/202104-divvy-tripdata.csv\")\n",
    "df2<- read.csv(\"../input/divvy-tripdata/202105-divvy-tripdata.csv\")\n",
    "df3<- read.csv(\"../input/divvy-tripdata/202106-divvy-tripdata.csv\")\n",
    "df4<- read.csv(\"../input/divvy-tripdata/202107-divvy-tripdata.csv\")\n",
    "df5<- read.csv(\"../input/divvy-tripdata/202108-divvy-tripdata.csv\")\n",
    "df6<- read.csv(\"../input/divvy-tripdata/202109-divvy-tripdata.csv\")\n",
    "df7<- read.csv(\"../input/divvy-tripdata/202110-divvy-tripdata.csv\")\n",
    "df8<- read.csv(\"../input/divvy-tripdata/202111-divvy-tripdata.csv\")\n",
    "df9<- read.csv(\"../input/divvy-tripdata/202112-divvy-tripdata.csv\")\n",
    "df10<- read.csv(\"../input/divvy-tripdata/202201-divvy-tripdata.csv\")\n",
    "df11<- read.csv(\"../input/divvy-tripdata/202202-divvy-tripdata.csv\")\n",
    "df12<- read.csv(\"../input/divvy-tripdata/202203-divvy-tripdata.csv\")"
   ]
  },
  {
   "cell_type": "markdown",
   "id": "316466b3",
   "metadata": {
    "execution": {
     "iopub.execute_input": "2021-05-27T00:22:41.730232Z",
     "iopub.status.busy": "2021-05-27T00:22:41.726599Z",
     "iopub.status.idle": "2021-05-27T00:22:41.75442Z"
    },
    "papermill": {
     "duration": 0.036027,
     "end_time": "2023-01-30T16:04:52.333714",
     "exception": false,
     "start_time": "2023-01-30T16:04:52.297687",
     "status": "completed"
    },
    "tags": []
   },
   "source": [
    "<a id=\"process-code-concatenating\"></a>\n",
    "### Concatenating\n",
    "All the csvs files will be concatenated into one dataframe."
   ]
  },
  {
   "cell_type": "code",
   "execution_count": 3,
   "id": "1da49965",
   "metadata": {
    "execution": {
     "iopub.execute_input": "2023-01-30T16:04:52.411241Z",
     "iopub.status.busy": "2023-01-30T16:04:52.410084Z",
     "iopub.status.idle": "2023-01-30T16:06:59.816889Z",
     "shell.execute_reply": "2023-01-30T16:06:59.815554Z"
    },
    "papermill": {
     "duration": 127.447455,
     "end_time": "2023-01-30T16:06:59.817183",
     "exception": false,
     "start_time": "2023-01-30T16:04:52.369728",
     "status": "completed"
    },
    "tags": []
   },
   "outputs": [],
   "source": [
    "Bike_share_data<- rbind(df1,df2,df3,df4,df5,df6,df7,df8,df9,df10,df11,df12)"
   ]
  },
  {
   "cell_type": "code",
   "execution_count": 4,
   "id": "9b000004",
   "metadata": {
    "execution": {
     "iopub.execute_input": "2023-01-30T16:06:59.897511Z",
     "iopub.status.busy": "2023-01-30T16:06:59.896361Z",
     "iopub.status.idle": "2023-01-30T16:08:13.022258Z",
     "shell.execute_reply": "2023-01-30T16:08:13.020970Z"
    },
    "papermill": {
     "duration": 73.166526,
     "end_time": "2023-01-30T16:08:13.022465",
     "exception": false,
     "start_time": "2023-01-30T16:06:59.855939",
     "status": "completed"
    },
    "tags": []
   },
   "outputs": [],
   "source": [
    "Bike_share_data %>%\n",
    "  write.csv(\"Bike_share.csv\")"
   ]
  },
  {
   "cell_type": "code",
   "execution_count": 5,
   "id": "07aff3d7",
   "metadata": {
    "execution": {
     "iopub.execute_input": "2023-01-30T16:08:13.107900Z",
     "iopub.status.busy": "2023-01-30T16:08:13.106841Z",
     "iopub.status.idle": "2023-01-30T16:12:57.199961Z",
     "shell.execute_reply": "2023-01-30T16:12:57.199230Z"
    },
    "papermill": {
     "duration": 284.136635,
     "end_time": "2023-01-30T16:12:57.200149",
     "exception": false,
     "start_time": "2023-01-30T16:08:13.063514",
     "status": "completed"
    },
    "tags": []
   },
   "outputs": [],
   "source": [
    "Bike_ride <- read.csv(\"./Bike_share.csv\")"
   ]
  },
  {
   "cell_type": "markdown",
   "id": "1b3bdfca",
   "metadata": {
    "papermill": {
     "duration": 0.036222,
     "end_time": "2023-01-30T16:12:57.274554",
     "exception": false,
     "start_time": "2023-01-30T16:12:57.238332",
     "status": "completed"
    },
    "tags": []
   },
   "source": [
    "<a id=\"process-code-data\"></a>\n",
    "### Data cleaning"
   ]
  },
  {
   "cell_type": "markdown",
   "id": "e0900271",
   "metadata": {
    "papermill": {
     "duration": 0.037643,
     "end_time": "2023-01-30T16:12:57.348310",
     "exception": false,
     "start_time": "2023-01-30T16:12:57.310667",
     "status": "completed"
    },
    "tags": []
   },
   "source": [
    "<a id=\"process-code-data-removing\"></a>\n",
    "#### Remove lat,long fields"
   ]
  },
  {
   "cell_type": "code",
   "execution_count": 6,
   "id": "9d52f76e",
   "metadata": {
    "execution": {
     "iopub.execute_input": "2023-01-30T16:12:57.424940Z",
     "iopub.status.busy": "2023-01-30T16:12:57.423681Z",
     "iopub.status.idle": "2023-01-30T16:12:57.448968Z",
     "shell.execute_reply": "2023-01-30T16:12:57.448250Z"
    },
    "papermill": {
     "duration": 0.065173,
     "end_time": "2023-01-30T16:12:57.449166",
     "exception": false,
     "start_time": "2023-01-30T16:12:57.383993",
     "status": "completed"
    },
    "tags": []
   },
   "outputs": [],
   "source": [
    "df <- Bike_ride %>%  \n",
    "  select(-c(start_lat, start_lng, end_lat, end_lng))"
   ]
  },
  {
   "cell_type": "markdown",
   "id": "4aba98cd",
   "metadata": {
    "papermill": {
     "duration": 0.03682,
     "end_time": "2023-01-30T16:12:57.522302",
     "exception": false,
     "start_time": "2023-01-30T16:12:57.485482",
     "status": "completed"
    },
    "tags": []
   },
   "source": [
    "<a id=\"process-code-data-removing\"></a>\n",
    "#### Remove Duplicates"
   ]
  },
  {
   "cell_type": "code",
   "execution_count": 7,
   "id": "d08b0d2e",
   "metadata": {
    "execution": {
     "iopub.execute_input": "2023-01-30T16:12:57.600151Z",
     "iopub.status.busy": "2023-01-30T16:12:57.598945Z",
     "iopub.status.idle": "2023-01-30T16:13:00.107917Z",
     "shell.execute_reply": "2023-01-30T16:13:00.106518Z"
    },
    "papermill": {
     "duration": 2.549649,
     "end_time": "2023-01-30T16:13:00.108201",
     "exception": false,
     "start_time": "2023-01-30T16:12:57.558552",
     "status": "completed"
    },
    "tags": []
   },
   "outputs": [
    {
     "name": "stdout",
     "output_type": "stream",
     "text": [
      "[1] \"Removed 0 duplicated rows\"\n"
     ]
    }
   ],
   "source": [
    "df <- df[!duplicated(df$ride_id), ]\n",
    "print(paste(\"Removed\", nrow(df) - nrow(df), \"duplicated rows\"))"
   ]
  },
  {
   "cell_type": "markdown",
   "id": "60a67b57",
   "metadata": {
    "papermill": {
     "duration": 0.036356,
     "end_time": "2023-01-30T16:13:00.181019",
     "exception": false,
     "start_time": "2023-01-30T16:13:00.144663",
     "status": "completed"
    },
    "tags": []
   },
   "source": [
    "<a id=\"process-code-manipulating\"></a>\n",
    "### Manipulating the data\n",
    "New columns will help improve calculation time in the future"
   ]
  },
  {
   "cell_type": "markdown",
   "id": "dc232e88",
   "metadata": {
    "papermill": {
     "duration": 0.036008,
     "end_time": "2023-01-30T16:13:00.252891",
     "exception": false,
     "start_time": "2023-01-30T16:13:00.216883",
     "status": "completed"
    },
    "tags": []
   },
   "source": [
    "#### Convert ride_id and rideable_type to character"
   ]
  },
  {
   "cell_type": "code",
   "execution_count": 8,
   "id": "314c5a13",
   "metadata": {
    "execution": {
     "iopub.execute_input": "2023-01-30T16:13:00.330717Z",
     "iopub.status.busy": "2023-01-30T16:13:00.329549Z",
     "iopub.status.idle": "2023-01-30T16:13:00.690132Z",
     "shell.execute_reply": "2023-01-30T16:13:00.688895Z"
    },
    "papermill": {
     "duration": 0.400663,
     "end_time": "2023-01-30T16:13:00.690309",
     "exception": false,
     "start_time": "2023-01-30T16:13:00.289646",
     "status": "completed"
    },
    "tags": []
   },
   "outputs": [],
   "source": [
    "df <-  mutate(df, ride_id = as.character(ride_id), rideable_type = as.character(rideable_type))"
   ]
  },
  {
   "cell_type": "markdown",
   "id": "7afe7425",
   "metadata": {
    "papermill": {
     "duration": 0.036639,
     "end_time": "2023-01-30T16:13:00.763554",
     "exception": false,
     "start_time": "2023-01-30T16:13:00.726915",
     "status": "completed"
    },
    "tags": []
   },
   "source": [
    "<a id=\"process-code-manipulating-riding\"></a>\n",
    "#### Add columns that list the date, month, day, and year of each ride"
   ]
  },
  {
   "cell_type": "code",
   "execution_count": 9,
   "id": "a6833e5c",
   "metadata": {
    "execution": {
     "iopub.execute_input": "2023-01-30T16:13:00.841267Z",
     "iopub.status.busy": "2023-01-30T16:13:00.840101Z",
     "iopub.status.idle": "2023-01-30T16:13:52.216137Z",
     "shell.execute_reply": "2023-01-30T16:13:52.215030Z"
    },
    "papermill": {
     "duration": 51.416472,
     "end_time": "2023-01-30T16:13:52.216330",
     "exception": false,
     "start_time": "2023-01-30T16:13:00.799858",
     "status": "completed"
    },
    "tags": []
   },
   "outputs": [],
   "source": [
    "df$date <- as.Date(df$started_at) #The default format is yyyy-mm-dd\n",
    "df$month <- format(as.Date(df$date), \"%m\")\n",
    "df$day <- format(as.Date(df$date), \"%d\")\n",
    "df$year <- format(as.Date(df$date), \"%Y\")\n",
    "df$day_of_week <- format(as.Date(df$date), \"%A\")"
   ]
  },
  {
   "cell_type": "markdown",
   "id": "3e669ba0",
   "metadata": {
    "papermill": {
     "duration": 0.036415,
     "end_time": "2023-01-30T16:13:52.289954",
     "exception": false,
     "start_time": "2023-01-30T16:13:52.253539",
     "status": "completed"
    },
    "tags": []
   },
   "source": [
    "<a id=\"process-code-manipulating-start\"></a>\n",
    "#### Add a \"ride_length\" as duration calculation to all_trips (in seconds)"
   ]
  },
  {
   "cell_type": "code",
   "execution_count": 10,
   "id": "dc9b1f09",
   "metadata": {
    "execution": {
     "iopub.execute_input": "2023-01-30T16:13:52.406564Z",
     "iopub.status.busy": "2023-01-30T16:13:52.405244Z",
     "iopub.status.idle": "2023-01-30T16:18:13.722924Z",
     "shell.execute_reply": "2023-01-30T16:18:13.721676Z"
    },
    "papermill": {
     "duration": 261.358371,
     "end_time": "2023-01-30T16:18:13.723352",
     "exception": false,
     "start_time": "2023-01-30T16:13:52.364981",
     "status": "completed"
    },
    "tags": []
   },
   "outputs": [],
   "source": [
    "df$duration <- difftime(df$ended_at,df$started_at)"
   ]
  },
  {
   "cell_type": "markdown",
   "id": "40db52ec",
   "metadata": {
    "papermill": {
     "duration": 0.041259,
     "end_time": "2023-01-30T16:18:13.809558",
     "exception": false,
     "start_time": "2023-01-30T16:18:13.768299",
     "status": "completed"
    },
    "tags": []
   },
   "source": [
    "#### Remove \"bad\" dataThe dataframe includes a few hundred entries when bikes were taken out of docks and checked for quality by Divvy or ride_length was negative"
   ]
  },
  {
   "cell_type": "code",
   "execution_count": 11,
   "id": "a313040a",
   "metadata": {
    "execution": {
     "iopub.execute_input": "2023-01-30T16:18:13.896422Z",
     "iopub.status.busy": "2023-01-30T16:18:13.894774Z",
     "iopub.status.idle": "2023-01-30T16:18:16.344436Z",
     "shell.execute_reply": "2023-01-30T16:18:16.342561Z"
    },
    "papermill": {
     "duration": 2.495817,
     "end_time": "2023-01-30T16:18:16.344611",
     "exception": false,
     "start_time": "2023-01-30T16:18:13.848794",
     "status": "completed"
    },
    "tags": []
   },
   "outputs": [],
   "source": [
    "df3 <- df[!(df$start_station_name == \"HQ QR\" | df$duration<0),]"
   ]
  },
  {
   "cell_type": "markdown",
   "id": "f24ee308",
   "metadata": {
    "papermill": {
     "duration": 0.036907,
     "end_time": "2023-01-30T16:18:16.417990",
     "exception": false,
     "start_time": "2023-01-30T16:18:16.381083",
     "status": "completed"
    },
    "tags": []
   },
   "source": [
    "<a id=\"process-guiding\"></a>\n",
    "## Guiding questions\n",
    "\n",
    "* **What tools are you choosing and why?**\n",
    "\n",
    "I'm using R for this project, for two main reasons: Because of the large dataset and to gather experience with the language.\n",
    "\n",
    "* **Have you ensured your data’s integrity?**\n",
    "\n",
    "Yes, the data is consistent throughout the columns.\n",
    "\n",
    "* **What steps have you taken to ensure that your data is clean?**\n",
    "\n",
    "First the duplicated values where removed, then the columns where formatted to their correct format.\n",
    "\n",
    "* **How can you verify that your data is clean and ready to analyze?**\n",
    "\n",
    "It can be verified by this notebook.\n",
    "\n",
    "* **Have you documented your cleaning process so you can review and share those results?**\n",
    "\n",
    "Yes, it's all documented in this R notebook."
   ]
  },
  {
   "cell_type": "markdown",
   "id": "b6d6680c",
   "metadata": {
    "execution": {
     "iopub.execute_input": "2021-05-27T03:00:20.802942Z",
     "iopub.status.busy": "2021-05-27T03:00:20.801075Z",
     "iopub.status.idle": "2021-05-27T03:00:20.816523Z"
    },
    "papermill": {
     "duration": 0.036955,
     "end_time": "2023-01-30T16:18:16.491950",
     "exception": false,
     "start_time": "2023-01-30T16:18:16.454995",
     "status": "completed"
    },
    "tags": []
   },
   "source": [
    "<a id=\"process-key\"></a>\n",
    "## Key tasks\n",
    "\n",
    "- [x] Check the data for errors.\n",
    "- [x] Choose your tools.\n",
    "- [x] Transform the data so you can work with it eectively\n",
    "- [x] Document the cleaning process."
   ]
  },
  {
   "cell_type": "markdown",
   "id": "9c801191",
   "metadata": {
    "papermill": {
     "duration": 0.036425,
     "end_time": "2023-01-30T16:18:16.565581",
     "exception": false,
     "start_time": "2023-01-30T16:18:16.529156",
     "status": "completed"
    },
    "tags": []
   },
   "source": [
    "<a id=\"process-deliverable\"></a>\n",
    "## Deliverable\n",
    "\n",
    "- [x] Documentation of any cleaning or manipulation of data"
   ]
  },
  {
   "cell_type": "markdown",
   "id": "408785a7",
   "metadata": {
    "execution": {
     "iopub.execute_input": "2021-05-27T03:01:22.828119Z",
     "iopub.status.busy": "2021-05-27T03:01:22.826184Z",
     "iopub.status.idle": "2021-05-27T03:01:22.840726Z"
    },
    "papermill": {
     "duration": 0.036216,
     "end_time": "2023-01-30T16:18:16.638253",
     "exception": false,
     "start_time": "2023-01-30T16:18:16.602037",
     "status": "completed"
    },
    "tags": []
   },
   "source": [
    "<a id=\"analyze\"></a>\n",
    "# Analyze\n",
    "The data exploration will consist of building a profile for annual members and how they differ from casual riders.\n",
    "\n",
    "Putting in a new variable with a simpler name will help reduce some typing in the future."
   ]
  },
  {
   "cell_type": "markdown",
   "id": "556ca8c6",
   "metadata": {
    "papermill": {
     "duration": 0.036037,
     "end_time": "2023-01-30T16:18:16.710666",
     "exception": false,
     "start_time": "2023-01-30T16:18:16.674629",
     "status": "completed"
    },
    "tags": []
   },
   "source": [
    "<a id=\"analyze-code\"></a>\n",
    "## Code"
   ]
  },
  {
   "cell_type": "markdown",
   "id": "d7b6d6b4",
   "metadata": {
    "papermill": {
     "duration": 0.037036,
     "end_time": "2023-01-30T16:18:16.784007",
     "exception": false,
     "start_time": "2023-01-30T16:18:16.746971",
     "status": "completed"
    },
    "tags": []
   },
   "source": [
    "#### Descriptive analysis on duration (all figures in seconds)"
   ]
  },
  {
   "cell_type": "code",
   "execution_count": 12,
   "id": "9f49f8f1",
   "metadata": {
    "execution": {
     "iopub.execute_input": "2023-01-30T16:18:16.862751Z",
     "iopub.status.busy": "2023-01-30T16:18:16.861439Z",
     "iopub.status.idle": "2023-01-30T16:18:17.826118Z",
     "shell.execute_reply": "2023-01-30T16:18:17.824837Z"
    },
    "papermill": {
     "duration": 1.005443,
     "end_time": "2023-01-30T16:18:17.826320",
     "exception": false,
     "start_time": "2023-01-30T16:18:16.820877",
     "status": "completed"
    },
    "tags": []
   },
   "outputs": [
    {
     "data": {
      "text/plain": [
       "Time difference of 1292.602 secs"
      ]
     },
     "metadata": {},
     "output_type": "display_data"
    },
    {
     "data": {
      "text/plain": [
       "Time difference of 703 secs"
      ]
     },
     "metadata": {},
     "output_type": "display_data"
    },
    {
     "data": {
      "text/plain": [
       "Time difference of 3356649 secs"
      ]
     },
     "metadata": {},
     "output_type": "display_data"
    },
    {
     "data": {
      "text/plain": [
       "Time difference of 0 secs"
      ]
     },
     "metadata": {},
     "output_type": "display_data"
    }
   ],
   "source": [
    "mean(df3$duration) #straight average (total ride length / rides)\n",
    "median(df3$duration) #midpoint number in the ascending array of ride lengths\n",
    "max(df3$duration) #longest ride\n",
    "min(df3$duration) #shortest ride"
   ]
  },
  {
   "cell_type": "code",
   "execution_count": 13,
   "id": "7fa09760",
   "metadata": {
    "execution": {
     "iopub.execute_input": "2023-01-30T16:18:17.909441Z",
     "iopub.status.busy": "2023-01-30T16:18:17.908046Z",
     "iopub.status.idle": "2023-01-30T16:18:36.269852Z",
     "shell.execute_reply": "2023-01-30T16:18:36.268326Z"
    },
    "papermill": {
     "duration": 18.405044,
     "end_time": "2023-01-30T16:18:36.270280",
     "exception": false,
     "start_time": "2023-01-30T16:18:17.865236",
     "status": "completed"
    },
    "tags": []
   },
   "outputs": [
    {
     "data": {
      "text/html": [
       "<table class=\"dataframe\">\n",
       "<caption>A data.frame: 2 × 2</caption>\n",
       "<thead>\n",
       "\t<tr><th scope=col>df3$member_casual</th><th scope=col>df3$duration</th></tr>\n",
       "\t<tr><th scope=col>&lt;fct&gt;</th><th scope=col>&lt;drtn&gt;</th></tr>\n",
       "</thead>\n",
       "<tbody>\n",
       "\t<tr><td>casual</td><td>1904.427 </td></tr>\n",
       "\t<tr><td>member</td><td> 802.187 </td></tr>\n",
       "</tbody>\n",
       "</table>\n"
      ],
      "text/latex": [
       "A data.frame: 2 × 2\n",
       "\\begin{tabular}{ll}\n",
       " df3\\$member\\_casual & df3\\$duration\\\\\n",
       " <fct> & <drtn>\\\\\n",
       "\\hline\n",
       "\t casual & 1904.427 \\\\\n",
       "\t member &  802.187 \\\\\n",
       "\\end{tabular}\n"
      ],
      "text/markdown": [
       "\n",
       "A data.frame: 2 × 2\n",
       "\n",
       "| df3$member_casual &lt;fct&gt; | df3$duration &lt;drtn&gt; |\n",
       "|---|---|\n",
       "| casual | 1904.427  |\n",
       "| member |  802.187  |\n",
       "\n"
      ],
      "text/plain": [
       "  df3$member_casual df3$duration\n",
       "1 casual            1904.427    \n",
       "2 member             802.187    "
      ]
     },
     "metadata": {},
     "output_type": "display_data"
    },
    {
     "data": {
      "text/html": [
       "<table class=\"dataframe\">\n",
       "<caption>A data.frame: 2 × 2</caption>\n",
       "<thead>\n",
       "\t<tr><th scope=col>df3$member_casual</th><th scope=col>df3$duration</th></tr>\n",
       "\t<tr><th scope=col>&lt;fct&gt;</th><th scope=col>&lt;drtn&gt;</th></tr>\n",
       "</thead>\n",
       "<tbody>\n",
       "\t<tr><td>casual</td><td>946 </td></tr>\n",
       "\t<tr><td>member</td><td>562 </td></tr>\n",
       "</tbody>\n",
       "</table>\n"
      ],
      "text/latex": [
       "A data.frame: 2 × 2\n",
       "\\begin{tabular}{ll}\n",
       " df3\\$member\\_casual & df3\\$duration\\\\\n",
       " <fct> & <drtn>\\\\\n",
       "\\hline\n",
       "\t casual & 946 \\\\\n",
       "\t member & 562 \\\\\n",
       "\\end{tabular}\n"
      ],
      "text/markdown": [
       "\n",
       "A data.frame: 2 × 2\n",
       "\n",
       "| df3$member_casual &lt;fct&gt; | df3$duration &lt;drtn&gt; |\n",
       "|---|---|\n",
       "| casual | 946  |\n",
       "| member | 562  |\n",
       "\n"
      ],
      "text/plain": [
       "  df3$member_casual df3$duration\n",
       "1 casual            946         \n",
       "2 member            562         "
      ]
     },
     "metadata": {},
     "output_type": "display_data"
    },
    {
     "data": {
      "text/html": [
       "<table class=\"dataframe\">\n",
       "<caption>A data.frame: 2 × 2</caption>\n",
       "<thead>\n",
       "\t<tr><th scope=col>df3$member_casual</th><th scope=col>df3$duration</th></tr>\n",
       "\t<tr><th scope=col>&lt;fct&gt;</th><th scope=col>&lt;drtn&gt;</th></tr>\n",
       "</thead>\n",
       "<tbody>\n",
       "\t<tr><td>casual</td><td>3356649 </td></tr>\n",
       "\t<tr><td>member</td><td>  93594 </td></tr>\n",
       "</tbody>\n",
       "</table>\n"
      ],
      "text/latex": [
       "A data.frame: 2 × 2\n",
       "\\begin{tabular}{ll}\n",
       " df3\\$member\\_casual & df3\\$duration\\\\\n",
       " <fct> & <drtn>\\\\\n",
       "\\hline\n",
       "\t casual & 3356649 \\\\\n",
       "\t member &   93594 \\\\\n",
       "\\end{tabular}\n"
      ],
      "text/markdown": [
       "\n",
       "A data.frame: 2 × 2\n",
       "\n",
       "| df3$member_casual &lt;fct&gt; | df3$duration &lt;drtn&gt; |\n",
       "|---|---|\n",
       "| casual | 3356649  |\n",
       "| member |   93594  |\n",
       "\n"
      ],
      "text/plain": [
       "  df3$member_casual df3$duration\n",
       "1 casual            3356649     \n",
       "2 member              93594     "
      ]
     },
     "metadata": {},
     "output_type": "display_data"
    },
    {
     "data": {
      "text/html": [
       "<table class=\"dataframe\">\n",
       "<caption>A data.frame: 2 × 2</caption>\n",
       "<thead>\n",
       "\t<tr><th scope=col>df3$member_casual</th><th scope=col>df3$duration</th></tr>\n",
       "\t<tr><th scope=col>&lt;fct&gt;</th><th scope=col>&lt;drtn&gt;</th></tr>\n",
       "</thead>\n",
       "<tbody>\n",
       "\t<tr><td>casual</td><td>0 </td></tr>\n",
       "\t<tr><td>member</td><td>0 </td></tr>\n",
       "</tbody>\n",
       "</table>\n"
      ],
      "text/latex": [
       "A data.frame: 2 × 2\n",
       "\\begin{tabular}{ll}\n",
       " df3\\$member\\_casual & df3\\$duration\\\\\n",
       " <fct> & <drtn>\\\\\n",
       "\\hline\n",
       "\t casual & 0 \\\\\n",
       "\t member & 0 \\\\\n",
       "\\end{tabular}\n"
      ],
      "text/markdown": [
       "\n",
       "A data.frame: 2 × 2\n",
       "\n",
       "| df3$member_casual &lt;fct&gt; | df3$duration &lt;drtn&gt; |\n",
       "|---|---|\n",
       "| casual | 0  |\n",
       "| member | 0  |\n",
       "\n"
      ],
      "text/plain": [
       "  df3$member_casual df3$duration\n",
       "1 casual            0           \n",
       "2 member            0           "
      ]
     },
     "metadata": {},
     "output_type": "display_data"
    }
   ],
   "source": [
    "# Compare members and casual users\n",
    "aggregate(df3$duration~df3$member_casual,FUN = mean)\n",
    "aggregate(df3$duration~df3$member_casual,FUN = median)\n",
    "aggregate(df3$duration~df3$member_casual,FUN = max)\n",
    "aggregate(df3$duration~df3$member_casual,FUN = min)"
   ]
  },
  {
   "cell_type": "code",
   "execution_count": 14,
   "id": "df1f12d7",
   "metadata": {
    "execution": {
     "iopub.execute_input": "2023-01-30T16:18:36.357834Z",
     "iopub.status.busy": "2023-01-30T16:18:36.356533Z",
     "iopub.status.idle": "2023-01-30T16:18:42.330428Z",
     "shell.execute_reply": "2023-01-30T16:18:42.328617Z"
    },
    "papermill": {
     "duration": 6.018465,
     "end_time": "2023-01-30T16:18:42.330603",
     "exception": false,
     "start_time": "2023-01-30T16:18:36.312138",
     "status": "completed"
    },
    "tags": []
   },
   "outputs": [
    {
     "data": {
      "text/html": [
       "<table class=\"dataframe\">\n",
       "<caption>A data.frame: 14 × 3</caption>\n",
       "<thead>\n",
       "\t<tr><th scope=col>df3$member_casual</th><th scope=col>df3$day_of_week</th><th scope=col>df3$duration</th></tr>\n",
       "\t<tr><th scope=col>&lt;fct&gt;</th><th scope=col>&lt;chr&gt;</th><th scope=col>&lt;drtn&gt;</th></tr>\n",
       "</thead>\n",
       "<tbody>\n",
       "\t<tr><td>casual</td><td>Friday   </td><td>1806.2163 </td></tr>\n",
       "\t<tr><td>member</td><td>Friday   </td><td> 788.3755 </td></tr>\n",
       "\t<tr><td>casual</td><td>Monday   </td><td>1888.9498 </td></tr>\n",
       "\t<tr><td>member</td><td>Monday   </td><td> 778.1150 </td></tr>\n",
       "\t<tr><td>casual</td><td>Saturday </td><td>2056.8695 </td></tr>\n",
       "\t<tr><td>member</td><td>Saturday </td><td> 899.6031 </td></tr>\n",
       "\t<tr><td>casual</td><td>Sunday   </td><td>2244.4133 </td></tr>\n",
       "\t<tr><td>member</td><td>Sunday   </td><td> 920.6725 </td></tr>\n",
       "\t<tr><td>casual</td><td>Thursday </td><td>1672.8766 </td></tr>\n",
       "\t<tr><td>member</td><td>Thursday </td><td> 754.2578 </td></tr>\n",
       "\t<tr><td>casual</td><td>Tuesday  </td><td>1646.1100 </td></tr>\n",
       "\t<tr><td>member</td><td>Tuesday  </td><td> 751.3135 </td></tr>\n",
       "\t<tr><td>casual</td><td>Wednesday</td><td>1665.9587 </td></tr>\n",
       "\t<tr><td>member</td><td>Wednesday</td><td> 755.3658 </td></tr>\n",
       "</tbody>\n",
       "</table>\n"
      ],
      "text/latex": [
       "A data.frame: 14 × 3\n",
       "\\begin{tabular}{lll}\n",
       " df3\\$member\\_casual & df3\\$day\\_of\\_week & df3\\$duration\\\\\n",
       " <fct> & <chr> & <drtn>\\\\\n",
       "\\hline\n",
       "\t casual & Friday    & 1806.2163 \\\\\n",
       "\t member & Friday    &  788.3755 \\\\\n",
       "\t casual & Monday    & 1888.9498 \\\\\n",
       "\t member & Monday    &  778.1150 \\\\\n",
       "\t casual & Saturday  & 2056.8695 \\\\\n",
       "\t member & Saturday  &  899.6031 \\\\\n",
       "\t casual & Sunday    & 2244.4133 \\\\\n",
       "\t member & Sunday    &  920.6725 \\\\\n",
       "\t casual & Thursday  & 1672.8766 \\\\\n",
       "\t member & Thursday  &  754.2578 \\\\\n",
       "\t casual & Tuesday   & 1646.1100 \\\\\n",
       "\t member & Tuesday   &  751.3135 \\\\\n",
       "\t casual & Wednesday & 1665.9587 \\\\\n",
       "\t member & Wednesday &  755.3658 \\\\\n",
       "\\end{tabular}\n"
      ],
      "text/markdown": [
       "\n",
       "A data.frame: 14 × 3\n",
       "\n",
       "| df3$member_casual &lt;fct&gt; | df3$day_of_week &lt;chr&gt; | df3$duration &lt;drtn&gt; |\n",
       "|---|---|---|\n",
       "| casual | Friday    | 1806.2163  |\n",
       "| member | Friday    |  788.3755  |\n",
       "| casual | Monday    | 1888.9498  |\n",
       "| member | Monday    |  778.1150  |\n",
       "| casual | Saturday  | 2056.8695  |\n",
       "| member | Saturday  |  899.6031  |\n",
       "| casual | Sunday    | 2244.4133  |\n",
       "| member | Sunday    |  920.6725  |\n",
       "| casual | Thursday  | 1672.8766  |\n",
       "| member | Thursday  |  754.2578  |\n",
       "| casual | Tuesday   | 1646.1100  |\n",
       "| member | Tuesday   |  751.3135  |\n",
       "| casual | Wednesday | 1665.9587  |\n",
       "| member | Wednesday |  755.3658  |\n",
       "\n"
      ],
      "text/plain": [
       "   df3$member_casual df3$day_of_week df3$duration\n",
       "1  casual            Friday          1806.2163   \n",
       "2  member            Friday           788.3755   \n",
       "3  casual            Monday          1888.9498   \n",
       "4  member            Monday           778.1150   \n",
       "5  casual            Saturday        2056.8695   \n",
       "6  member            Saturday         899.6031   \n",
       "7  casual            Sunday          2244.4133   \n",
       "8  member            Sunday           920.6725   \n",
       "9  casual            Thursday        1672.8766   \n",
       "10 member            Thursday         754.2578   \n",
       "11 casual            Tuesday         1646.1100   \n",
       "12 member            Tuesday          751.3135   \n",
       "13 casual            Wednesday       1665.9587   \n",
       "14 member            Wednesday        755.3658   "
      ]
     },
     "metadata": {},
     "output_type": "display_data"
    }
   ],
   "source": [
    "# See the average ride time by each day for members vs casual users\n",
    "aggregate(df3$duration~df3$member_casual+df3$day_of_week, FUN = mean)"
   ]
  },
  {
   "cell_type": "markdown",
   "id": "f5c06f51",
   "metadata": {
    "papermill": {
     "duration": 0.042253,
     "end_time": "2023-01-30T16:18:42.416570",
     "exception": false,
     "start_time": "2023-01-30T16:18:42.374317",
     "status": "completed"
    },
    "tags": []
   },
   "source": [
    "One thing that immediately catches the attention is ride_time_m. This field has negative values, and the biggest value is 3356649 secs."
   ]
  },
  {
   "cell_type": "markdown",
   "id": "1d7fd28e",
   "metadata": {
    "execution": {
     "iopub.execute_input": "2021-05-27T15:47:28.459909Z",
     "iopub.status.busy": "2021-05-27T15:47:28.456639Z",
     "iopub.status.idle": "2021-05-27T15:47:28.505996Z"
    },
    "papermill": {
     "duration": 0.041172,
     "end_time": "2023-01-30T16:18:42.499161",
     "exception": false,
     "start_time": "2023-01-30T16:18:42.457989",
     "status": "completed"
    },
    "tags": []
   },
   "source": [
    "# Notice that the days of the week are out of order. Let's fix that.<a id=\"analyze-code-data\"></a>\n",
    "### Data distribution\n",
    "Here we want to try to answer the most basic questions about how the data is distributed."
   ]
  },
  {
   "cell_type": "code",
   "execution_count": 15,
   "id": "2fa84ee9",
   "metadata": {
    "execution": {
     "iopub.execute_input": "2023-01-30T16:18:42.587696Z",
     "iopub.status.busy": "2023-01-30T16:18:42.586513Z",
     "iopub.status.idle": "2023-01-30T16:18:42.695525Z",
     "shell.execute_reply": "2023-01-30T16:18:42.694697Z"
    },
    "papermill": {
     "duration": 0.154859,
     "end_time": "2023-01-30T16:18:42.695685",
     "exception": false,
     "start_time": "2023-01-30T16:18:42.540826",
     "status": "completed"
    },
    "tags": []
   },
   "outputs": [],
   "source": [
    "df3$day_of_week <- ordered(df3$day_of_week, levels=c(\"Sunday\", \"Monday\", \"Tuesday\", \"Wednesday\", \"Thursday\", \"Friday\", \"Saturday\"))"
   ]
  },
  {
   "cell_type": "code",
   "execution_count": 16,
   "id": "2743b4ff",
   "metadata": {
    "execution": {
     "iopub.execute_input": "2023-01-30T16:18:42.785652Z",
     "iopub.status.busy": "2023-01-30T16:18:42.784446Z",
     "iopub.status.idle": "2023-01-30T16:18:48.595354Z",
     "shell.execute_reply": "2023-01-30T16:18:48.593208Z"
    },
    "papermill": {
     "duration": 5.858828,
     "end_time": "2023-01-30T16:18:48.595658",
     "exception": false,
     "start_time": "2023-01-30T16:18:42.736830",
     "status": "completed"
    },
    "tags": []
   },
   "outputs": [
    {
     "data": {
      "text/html": [
       "<table class=\"dataframe\">\n",
       "<caption>A data.frame: 14 × 3</caption>\n",
       "<thead>\n",
       "\t<tr><th scope=col>df3$member_casual</th><th scope=col>df3$day_of_week</th><th scope=col>df3$duration</th></tr>\n",
       "\t<tr><th scope=col>&lt;fct&gt;</th><th scope=col>&lt;ord&gt;</th><th scope=col>&lt;drtn&gt;</th></tr>\n",
       "</thead>\n",
       "<tbody>\n",
       "\t<tr><td>casual</td><td>Sunday   </td><td>2244.4133 </td></tr>\n",
       "\t<tr><td>member</td><td>Sunday   </td><td> 920.6725 </td></tr>\n",
       "\t<tr><td>casual</td><td>Monday   </td><td>1888.9498 </td></tr>\n",
       "\t<tr><td>member</td><td>Monday   </td><td> 778.1150 </td></tr>\n",
       "\t<tr><td>casual</td><td>Tuesday  </td><td>1646.1100 </td></tr>\n",
       "\t<tr><td>member</td><td>Tuesday  </td><td> 751.3135 </td></tr>\n",
       "\t<tr><td>casual</td><td>Wednesday</td><td>1665.9587 </td></tr>\n",
       "\t<tr><td>member</td><td>Wednesday</td><td> 755.3658 </td></tr>\n",
       "\t<tr><td>casual</td><td>Thursday </td><td>1672.8766 </td></tr>\n",
       "\t<tr><td>member</td><td>Thursday </td><td> 754.2578 </td></tr>\n",
       "\t<tr><td>casual</td><td>Friday   </td><td>1806.2163 </td></tr>\n",
       "\t<tr><td>member</td><td>Friday   </td><td> 788.3755 </td></tr>\n",
       "\t<tr><td>casual</td><td>Saturday </td><td>2056.8695 </td></tr>\n",
       "\t<tr><td>member</td><td>Saturday </td><td> 899.6031 </td></tr>\n",
       "</tbody>\n",
       "</table>\n"
      ],
      "text/latex": [
       "A data.frame: 14 × 3\n",
       "\\begin{tabular}{lll}\n",
       " df3\\$member\\_casual & df3\\$day\\_of\\_week & df3\\$duration\\\\\n",
       " <fct> & <ord> & <drtn>\\\\\n",
       "\\hline\n",
       "\t casual & Sunday    & 2244.4133 \\\\\n",
       "\t member & Sunday    &  920.6725 \\\\\n",
       "\t casual & Monday    & 1888.9498 \\\\\n",
       "\t member & Monday    &  778.1150 \\\\\n",
       "\t casual & Tuesday   & 1646.1100 \\\\\n",
       "\t member & Tuesday   &  751.3135 \\\\\n",
       "\t casual & Wednesday & 1665.9587 \\\\\n",
       "\t member & Wednesday &  755.3658 \\\\\n",
       "\t casual & Thursday  & 1672.8766 \\\\\n",
       "\t member & Thursday  &  754.2578 \\\\\n",
       "\t casual & Friday    & 1806.2163 \\\\\n",
       "\t member & Friday    &  788.3755 \\\\\n",
       "\t casual & Saturday  & 2056.8695 \\\\\n",
       "\t member & Saturday  &  899.6031 \\\\\n",
       "\\end{tabular}\n"
      ],
      "text/markdown": [
       "\n",
       "A data.frame: 14 × 3\n",
       "\n",
       "| df3$member_casual &lt;fct&gt; | df3$day_of_week &lt;ord&gt; | df3$duration &lt;drtn&gt; |\n",
       "|---|---|---|\n",
       "| casual | Sunday    | 2244.4133  |\n",
       "| member | Sunday    |  920.6725  |\n",
       "| casual | Monday    | 1888.9498  |\n",
       "| member | Monday    |  778.1150  |\n",
       "| casual | Tuesday   | 1646.1100  |\n",
       "| member | Tuesday   |  751.3135  |\n",
       "| casual | Wednesday | 1665.9587  |\n",
       "| member | Wednesday |  755.3658  |\n",
       "| casual | Thursday  | 1672.8766  |\n",
       "| member | Thursday  |  754.2578  |\n",
       "| casual | Friday    | 1806.2163  |\n",
       "| member | Friday    |  788.3755  |\n",
       "| casual | Saturday  | 2056.8695  |\n",
       "| member | Saturday  |  899.6031  |\n",
       "\n"
      ],
      "text/plain": [
       "   df3$member_casual df3$day_of_week df3$duration\n",
       "1  casual            Sunday          2244.4133   \n",
       "2  member            Sunday           920.6725   \n",
       "3  casual            Monday          1888.9498   \n",
       "4  member            Monday           778.1150   \n",
       "5  casual            Tuesday         1646.1100   \n",
       "6  member            Tuesday          751.3135   \n",
       "7  casual            Wednesday       1665.9587   \n",
       "8  member            Wednesday        755.3658   \n",
       "9  casual            Thursday        1672.8766   \n",
       "10 member            Thursday         754.2578   \n",
       "11 casual            Friday          1806.2163   \n",
       "12 member            Friday           788.3755   \n",
       "13 casual            Saturday        2056.8695   \n",
       "14 member            Saturday         899.6031   "
      ]
     },
     "metadata": {},
     "output_type": "display_data"
    }
   ],
   "source": [
    "# Now, let's run the average ride time by each day for members vs casual users\n",
    "aggregate(df3$duration ~ df3$member_casual + df3$day_of_week, FUN = mean)"
   ]
  },
  {
   "cell_type": "code",
   "execution_count": 17,
   "id": "57a80e12",
   "metadata": {
    "execution": {
     "iopub.execute_input": "2023-01-30T16:18:48.687308Z",
     "iopub.status.busy": "2023-01-30T16:18:48.685314Z",
     "iopub.status.idle": "2023-01-30T16:18:48.907380Z",
     "shell.execute_reply": "2023-01-30T16:18:48.905153Z"
    },
    "papermill": {
     "duration": 0.269893,
     "end_time": "2023-01-30T16:18:48.907551",
     "exception": false,
     "start_time": "2023-01-30T16:18:48.637658",
     "status": "completed"
    },
    "tags": []
   },
   "outputs": [
    {
     "data": {
      "text/html": [
       "<table class=\"dataframe\">\n",
       "<caption>A tibble: 2 × 3</caption>\n",
       "<thead>\n",
       "\t<tr><th scope=col>year</th><th scope=col>members_p</th><th scope=col>casual_p</th></tr>\n",
       "\t<tr><th scope=col>&lt;chr&gt;</th><th scope=col>&lt;int&gt;</th><th scope=col>&lt;int&gt;</th></tr>\n",
       "</thead>\n",
       "<tbody>\n",
       "\t<tr><td>2021</td><td>2803302</td><td>2416666</td></tr>\n",
       "\t<tr><td>2022</td><td> 373603</td><td> 129816</td></tr>\n",
       "</tbody>\n",
       "</table>\n"
      ],
      "text/latex": [
       "A tibble: 2 × 3\n",
       "\\begin{tabular}{lll}\n",
       " year & members\\_p & casual\\_p\\\\\n",
       " <chr> & <int> & <int>\\\\\n",
       "\\hline\n",
       "\t 2021 & 2803302 & 2416666\\\\\n",
       "\t 2022 &  373603 &  129816\\\\\n",
       "\\end{tabular}\n"
      ],
      "text/markdown": [
       "\n",
       "A tibble: 2 × 3\n",
       "\n",
       "| year &lt;chr&gt; | members_p &lt;int&gt; | casual_p &lt;int&gt; |\n",
       "|---|---|---|\n",
       "| 2021 | 2803302 | 2416666 |\n",
       "| 2022 |  373603 |  129816 |\n",
       "\n"
      ],
      "text/plain": [
       "  year members_p casual_p\n",
       "1 2021 2803302   2416666 \n",
       "2 2022  373603    129816 "
      ]
     },
     "metadata": {},
     "output_type": "display_data"
    }
   ],
   "source": [
    "df3 %>%\n",
    "    group_by(year) %>%\n",
    "    summarise('members_p' = (sum(member_casual == \"member\")),\n",
    "              'casual_p' = (sum(member_casual == \"casual\")))\n"
   ]
  },
  {
   "cell_type": "code",
   "execution_count": 18,
   "id": "f2879645",
   "metadata": {
    "execution": {
     "iopub.execute_input": "2023-01-30T16:18:48.999601Z",
     "iopub.status.busy": "2023-01-30T16:18:48.998598Z",
     "iopub.status.idle": "2023-01-30T16:18:49.142268Z",
     "shell.execute_reply": "2023-01-30T16:18:49.140732Z"
    },
    "papermill": {
     "duration": 0.192258,
     "end_time": "2023-01-30T16:18:49.142422",
     "exception": false,
     "start_time": "2023-01-30T16:18:48.950164",
     "status": "completed"
    },
    "tags": []
   },
   "outputs": [
    {
     "data": {
      "text/html": [
       "<table class=\"dataframe\">\n",
       "<caption>A data.frame: 2 × 2</caption>\n",
       "<thead>\n",
       "\t<tr><th scope=col>member_casual</th><th scope=col>n</th></tr>\n",
       "\t<tr><th scope=col>&lt;fct&gt;</th><th scope=col>&lt;int&gt;</th></tr>\n",
       "</thead>\n",
       "<tbody>\n",
       "\t<tr><td>casual</td><td>2546482</td></tr>\n",
       "\t<tr><td>member</td><td>3176905</td></tr>\n",
       "</tbody>\n",
       "</table>\n"
      ],
      "text/latex": [
       "A data.frame: 2 × 2\n",
       "\\begin{tabular}{ll}\n",
       " member\\_casual & n\\\\\n",
       " <fct> & <int>\\\\\n",
       "\\hline\n",
       "\t casual & 2546482\\\\\n",
       "\t member & 3176905\\\\\n",
       "\\end{tabular}\n"
      ],
      "text/markdown": [
       "\n",
       "A data.frame: 2 × 2\n",
       "\n",
       "| member_casual &lt;fct&gt; | n &lt;int&gt; |\n",
       "|---|---|\n",
       "| casual | 2546482 |\n",
       "| member | 3176905 |\n",
       "\n"
      ],
      "text/plain": [
       "  member_casual n      \n",
       "1 casual        2546482\n",
       "2 member        3176905"
      ]
     },
     "metadata": {},
     "output_type": "display_data"
    }
   ],
   "source": [
    "df3 %>%\n",
    "    count(member_casual)"
   ]
  },
  {
   "cell_type": "markdown",
   "id": "1a5f1c74",
   "metadata": {
    "papermill": {
     "duration": 0.044786,
     "end_time": "2023-01-30T16:18:49.230384",
     "exception": false,
     "start_time": "2023-01-30T16:18:49.185598",
     "status": "completed"
    },
    "tags": []
   },
   "source": [
    "<a id=\"analyze-code-data-casuals\"></a>\n",
    "#### Casuals vs members\n",
    "analyze ridership data by type and weekday"
   ]
  },
  {
   "cell_type": "code",
   "execution_count": 19,
   "id": "e367caef",
   "metadata": {
    "execution": {
     "iopub.execute_input": "2023-01-30T16:18:49.325265Z",
     "iopub.status.busy": "2023-01-30T16:18:49.323393Z",
     "iopub.status.idle": "2023-01-30T16:19:04.800399Z",
     "shell.execute_reply": "2023-01-30T16:19:04.798708Z"
    },
    "papermill": {
     "duration": 15.526755,
     "end_time": "2023-01-30T16:19:04.800616",
     "exception": false,
     "start_time": "2023-01-30T16:18:49.273861",
     "status": "completed"
    },
    "tags": []
   },
   "outputs": [
    {
     "name": "stderr",
     "output_type": "stream",
     "text": [
      "Warning message:\n",
      "“tz(): Don't know how to compute timezone for object of class factor; returning \"UTC\". This warning will become an error in the next major version of lubridate.”\n",
      "`summarise()` has grouped output by 'member_casual'. You can override using the `.groups` argument.\n",
      "\n"
     ]
    },
    {
     "data": {
      "text/html": [
       "<table class=\"dataframe\">\n",
       "<caption>A grouped_df: 14 × 4</caption>\n",
       "<thead>\n",
       "\t<tr><th scope=col>member_casual</th><th scope=col>weekday</th><th scope=col>number_of_rides</th><th scope=col>average_duration</th></tr>\n",
       "\t<tr><th scope=col>&lt;fct&gt;</th><th scope=col>&lt;ord&gt;</th><th scope=col>&lt;int&gt;</th><th scope=col>&lt;drtn&gt;</th></tr>\n",
       "</thead>\n",
       "<tbody>\n",
       "\t<tr><td>casual</td><td>Sun</td><td>482801</td><td>2244.4133 secs</td></tr>\n",
       "\t<tr><td>casual</td><td>Mon</td><td>292993</td><td>1888.9498 secs</td></tr>\n",
       "\t<tr><td>casual</td><td>Tue</td><td>276371</td><td>1646.1100 secs</td></tr>\n",
       "\t<tr><td>casual</td><td>Wed</td><td>286400</td><td>1665.9587 secs</td></tr>\n",
       "\t<tr><td>casual</td><td>Thu</td><td>293632</td><td>1672.8766 secs</td></tr>\n",
       "\t<tr><td>casual</td><td>Fri</td><td>364277</td><td>1806.2163 secs</td></tr>\n",
       "\t<tr><td>casual</td><td>Sat</td><td>550008</td><td>2056.8695 secs</td></tr>\n",
       "\t<tr><td>member</td><td>Sun</td><td>387717</td><td> 920.6725 secs</td></tr>\n",
       "\t<tr><td>member</td><td>Mon</td><td>439428</td><td> 778.1150 secs</td></tr>\n",
       "\t<tr><td>member</td><td>Tue</td><td>490095</td><td> 751.3135 secs</td></tr>\n",
       "\t<tr><td>member</td><td>Wed</td><td>499901</td><td> 755.3658 secs</td></tr>\n",
       "\t<tr><td>member</td><td>Thu</td><td>475330</td><td> 754.2578 secs</td></tr>\n",
       "\t<tr><td>member</td><td>Fri</td><td>453108</td><td> 788.3755 secs</td></tr>\n",
       "\t<tr><td>member</td><td>Sat</td><td>431326</td><td> 899.6031 secs</td></tr>\n",
       "</tbody>\n",
       "</table>\n"
      ],
      "text/latex": [
       "A grouped\\_df: 14 × 4\n",
       "\\begin{tabular}{llll}\n",
       " member\\_casual & weekday & number\\_of\\_rides & average\\_duration\\\\\n",
       " <fct> & <ord> & <int> & <drtn>\\\\\n",
       "\\hline\n",
       "\t casual & Sun & 482801 & 2244.4133 secs\\\\\n",
       "\t casual & Mon & 292993 & 1888.9498 secs\\\\\n",
       "\t casual & Tue & 276371 & 1646.1100 secs\\\\\n",
       "\t casual & Wed & 286400 & 1665.9587 secs\\\\\n",
       "\t casual & Thu & 293632 & 1672.8766 secs\\\\\n",
       "\t casual & Fri & 364277 & 1806.2163 secs\\\\\n",
       "\t casual & Sat & 550008 & 2056.8695 secs\\\\\n",
       "\t member & Sun & 387717 &  920.6725 secs\\\\\n",
       "\t member & Mon & 439428 &  778.1150 secs\\\\\n",
       "\t member & Tue & 490095 &  751.3135 secs\\\\\n",
       "\t member & Wed & 499901 &  755.3658 secs\\\\\n",
       "\t member & Thu & 475330 &  754.2578 secs\\\\\n",
       "\t member & Fri & 453108 &  788.3755 secs\\\\\n",
       "\t member & Sat & 431326 &  899.6031 secs\\\\\n",
       "\\end{tabular}\n"
      ],
      "text/markdown": [
       "\n",
       "A grouped_df: 14 × 4\n",
       "\n",
       "| member_casual &lt;fct&gt; | weekday &lt;ord&gt; | number_of_rides &lt;int&gt; | average_duration &lt;drtn&gt; |\n",
       "|---|---|---|---|\n",
       "| casual | Sun | 482801 | 2244.4133 secs |\n",
       "| casual | Mon | 292993 | 1888.9498 secs |\n",
       "| casual | Tue | 276371 | 1646.1100 secs |\n",
       "| casual | Wed | 286400 | 1665.9587 secs |\n",
       "| casual | Thu | 293632 | 1672.8766 secs |\n",
       "| casual | Fri | 364277 | 1806.2163 secs |\n",
       "| casual | Sat | 550008 | 2056.8695 secs |\n",
       "| member | Sun | 387717 |  920.6725 secs |\n",
       "| member | Mon | 439428 |  778.1150 secs |\n",
       "| member | Tue | 490095 |  751.3135 secs |\n",
       "| member | Wed | 499901 |  755.3658 secs |\n",
       "| member | Thu | 475330 |  754.2578 secs |\n",
       "| member | Fri | 453108 |  788.3755 secs |\n",
       "| member | Sat | 431326 |  899.6031 secs |\n",
       "\n"
      ],
      "text/plain": [
       "   member_casual weekday number_of_rides average_duration\n",
       "1  casual        Sun     482801          2244.4133 secs  \n",
       "2  casual        Mon     292993          1888.9498 secs  \n",
       "3  casual        Tue     276371          1646.1100 secs  \n",
       "4  casual        Wed     286400          1665.9587 secs  \n",
       "5  casual        Thu     293632          1672.8766 secs  \n",
       "6  casual        Fri     364277          1806.2163 secs  \n",
       "7  casual        Sat     550008          2056.8695 secs  \n",
       "8  member        Sun     387717           920.6725 secs  \n",
       "9  member        Mon     439428           778.1150 secs  \n",
       "10 member        Tue     490095           751.3135 secs  \n",
       "11 member        Wed     499901           755.3658 secs  \n",
       "12 member        Thu     475330           754.2578 secs  \n",
       "13 member        Fri     453108           788.3755 secs  \n",
       "14 member        Sat     431326           899.6031 secs  "
      ]
     },
     "metadata": {},
     "output_type": "display_data"
    }
   ],
   "source": [
    "df3 %>% \n",
    "  mutate(weekday = wday(started_at, label = TRUE)) %>%  #creates weekday field using wday()\n",
    "  group_by(member_casual, weekday) %>%  #groups by usertype and weekday\n",
    "  summarise(number_of_rides = n() #calculates the number of rides and average duration \n",
    "            ,average_duration = mean(duration)) %>% # calculates the average duration\n",
    "  arrange(member_casual, weekday)"
   ]
  },
  {
   "cell_type": "code",
   "execution_count": 20,
   "id": "b47e2671",
   "metadata": {
    "execution": {
     "iopub.execute_input": "2023-01-30T16:19:04.897989Z",
     "iopub.status.busy": "2023-01-30T16:19:04.896595Z",
     "iopub.status.idle": "2023-01-30T16:19:22.845922Z",
     "shell.execute_reply": "2023-01-30T16:19:22.844603Z"
    },
    "papermill": {
     "duration": 17.998905,
     "end_time": "2023-01-30T16:19:22.846153",
     "exception": false,
     "start_time": "2023-01-30T16:19:04.847248",
     "status": "completed"
    },
    "tags": []
   },
   "outputs": [
    {
     "name": "stderr",
     "output_type": "stream",
     "text": [
      "Warning message:\n",
      "“tz(): Don't know how to compute timezone for object of class factor; returning \"UTC\". This warning will become an error in the next major version of lubridate.”\n",
      "`summarise()` has grouped output by 'member_casual'. You can override using the `.groups` argument.\n",
      "\n"
     ]
    },
    {
     "data": {
      "image/png": "[encoded data removed]"
     },
     "metadata": {
      "image/png": {
       "height": 420,
       "width": 420
      }
     },
     "output_type": "display_data"
    }
   ],
   "source": [
    "# Let's visualize the number of rides by rider type\n",
    "df3 %>% \n",
    "  mutate(weekday = wday(started_at, label = TRUE)) %>% \n",
    "  group_by(member_casual, weekday) %>% \n",
    "  summarise(number_of_rides = n()\n",
    "            ,average_duration = mean(duration)) %>% \n",
    "  arrange(member_casual, weekday)  %>% \n",
    "  ggplot(aes(x = weekday, y = number_of_rides, fill = member_casual)) +\n",
    "  geom_col(position = \"dodge\")"
   ]
  },
  {
   "cell_type": "markdown",
   "id": "a93aeb69",
   "metadata": {
    "papermill": {
     "duration": 0.053591,
     "end_time": "2023-01-30T16:19:22.950296",
     "exception": false,
     "start_time": "2023-01-30T16:19:22.896705",
     "status": "completed"
    },
    "tags": []
   },
   "source": [
    "As we can see on the member x casual table, members have a bigger proporcion of the dataset, composing ~59%, ~19% bigger than the count of casual riders."
   ]
  },
  {
   "cell_type": "markdown",
   "id": "de159569",
   "metadata": {
    "papermill": {
     "duration": 0.051101,
     "end_time": "2023-01-30T16:19:23.050600",
     "exception": false,
     "start_time": "2023-01-30T16:19:22.999499",
     "status": "completed"
    },
    "tags": []
   },
   "source": [
    "<a id=\"analyze-code-data-month\"></a>\n",
    "#### Month\n",
    "How much of the data is distributed by month?"
   ]
  },
  {
   "cell_type": "code",
   "execution_count": 21,
   "id": "2242a8bd",
   "metadata": {
    "execution": {
     "iopub.execute_input": "2023-01-30T16:19:23.154560Z",
     "iopub.status.busy": "2023-01-30T16:19:23.153106Z",
     "iopub.status.idle": "2023-01-30T16:19:23.403624Z",
     "shell.execute_reply": "2023-01-30T16:19:23.401994Z"
    },
    "papermill": {
     "duration": 0.301672,
     "end_time": "2023-01-30T16:19:23.403807",
     "exception": false,
     "start_time": "2023-01-30T16:19:23.102135",
     "status": "completed"
    },
    "tags": []
   },
   "outputs": [
    {
     "data": {
      "text/html": [
       "<table class=\"dataframe\">\n",
       "<caption>A tibble: 12 × 6</caption>\n",
       "<thead>\n",
       "\t<tr><th scope=col>month</th><th scope=col>count</th><th scope=col>%</th><th scope=col>members_p</th><th scope=col>casual_p</th><th scope=col>Member x Casual Perc Difer</th></tr>\n",
       "\t<tr><th scope=col>&lt;chr&gt;</th><th scope=col>&lt;int&gt;</th><th scope=col>&lt;dbl&gt;</th><th scope=col>&lt;dbl&gt;</th><th scope=col>&lt;dbl&gt;</th><th scope=col>&lt;dbl&gt;</th></tr>\n",
       "</thead>\n",
       "<tbody>\n",
       "\t<tr><td>01</td><td>103770</td><td> 1.813087</td><td>82.15284</td><td>17.84716</td><td>64.305676</td></tr>\n",
       "\t<tr><td>02</td><td>115609</td><td> 2.019940</td><td>81.47549</td><td>18.52451</td><td>62.950981</td></tr>\n",
       "\t<tr><td>03</td><td>284040</td><td> 4.962796</td><td>68.35657</td><td>31.64343</td><td>36.713139</td></tr>\n",
       "\t<tr><td>04</td><td>337225</td><td> 5.892053</td><td>59.49262</td><td>40.50738</td><td>18.985247</td></tr>\n",
       "\t<tr><td>05</td><td>531631</td><td> 9.288748</td><td>51.67400</td><td>48.32600</td><td> 3.347999</td></tr>\n",
       "\t<tr><td>06</td><td>729590</td><td>12.747522</td><td>49.19366</td><td>50.80634</td><td>-1.612687</td></tr>\n",
       "\t<tr><td>07</td><td>822397</td><td>14.369062</td><td>46.24883</td><td>53.75117</td><td>-7.502338</td></tr>\n",
       "\t<tr><td>08</td><td>804323</td><td>14.053270</td><td>48.69449</td><td>51.30551</td><td>-2.611016</td></tr>\n",
       "\t<tr><td>09</td><td>756111</td><td>13.210901</td><td>51.87439</td><td>48.12561</td><td> 3.748788</td></tr>\n",
       "\t<tr><td>10</td><td>631226</td><td>11.028889</td><td>59.24724</td><td>40.75276</td><td>18.494485</td></tr>\n",
       "\t<tr><td>11</td><td>359925</td><td> 6.288671</td><td>70.29992</td><td>29.70008</td><td>40.599847</td></tr>\n",
       "\t<tr><td>12</td><td>247540</td><td> 4.325061</td><td>71.82758</td><td>28.17242</td><td>43.655167</td></tr>\n",
       "</tbody>\n",
       "</table>\n"
      ],
      "text/latex": [
       "A tibble: 12 × 6\n",
       "\\begin{tabular}{llllll}\n",
       " month & count & \\% & members\\_p & casual\\_p & Member x Casual Perc Difer\\\\\n",
       " <chr> & <int> & <dbl> & <dbl> & <dbl> & <dbl>\\\\\n",
       "\\hline\n",
       "\t 01 & 103770 &  1.813087 & 82.15284 & 17.84716 & 64.305676\\\\\n",
       "\t 02 & 115609 &  2.019940 & 81.47549 & 18.52451 & 62.950981\\\\\n",
       "\t 03 & 284040 &  4.962796 & 68.35657 & 31.64343 & 36.713139\\\\\n",
       "\t 04 & 337225 &  5.892053 & 59.49262 & 40.50738 & 18.985247\\\\\n",
       "\t 05 & 531631 &  9.288748 & 51.67400 & 48.32600 &  3.347999\\\\\n",
       "\t 06 & 729590 & 12.747522 & 49.19366 & 50.80634 & -1.612687\\\\\n",
       "\t 07 & 822397 & 14.369062 & 46.24883 & 53.75117 & -7.502338\\\\\n",
       "\t 08 & 804323 & 14.053270 & 48.69449 & 51.30551 & -2.611016\\\\\n",
       "\t 09 & 756111 & 13.210901 & 51.87439 & 48.12561 &  3.748788\\\\\n",
       "\t 10 & 631226 & 11.028889 & 59.24724 & 40.75276 & 18.494485\\\\\n",
       "\t 11 & 359925 &  6.288671 & 70.29992 & 29.70008 & 40.599847\\\\\n",
       "\t 12 & 247540 &  4.325061 & 71.82758 & 28.17242 & 43.655167\\\\\n",
       "\\end{tabular}\n"
      ],
      "text/markdown": [
       "\n",
       "A tibble: 12 × 6\n",
       "\n",
       "| month &lt;chr&gt; | count &lt;int&gt; | % &lt;dbl&gt; | members_p &lt;dbl&gt; | casual_p &lt;dbl&gt; | Member x Casual Perc Difer &lt;dbl&gt; |\n",
       "|---|---|---|---|---|---|\n",
       "| 01 | 103770 |  1.813087 | 82.15284 | 17.84716 | 64.305676 |\n",
       "| 02 | 115609 |  2.019940 | 81.47549 | 18.52451 | 62.950981 |\n",
       "| 03 | 284040 |  4.962796 | 68.35657 | 31.64343 | 36.713139 |\n",
       "| 04 | 337225 |  5.892053 | 59.49262 | 40.50738 | 18.985247 |\n",
       "| 05 | 531631 |  9.288748 | 51.67400 | 48.32600 |  3.347999 |\n",
       "| 06 | 729590 | 12.747522 | 49.19366 | 50.80634 | -1.612687 |\n",
       "| 07 | 822397 | 14.369062 | 46.24883 | 53.75117 | -7.502338 |\n",
       "| 08 | 804323 | 14.053270 | 48.69449 | 51.30551 | -2.611016 |\n",
       "| 09 | 756111 | 13.210901 | 51.87439 | 48.12561 |  3.748788 |\n",
       "| 10 | 631226 | 11.028889 | 59.24724 | 40.75276 | 18.494485 |\n",
       "| 11 | 359925 |  6.288671 | 70.29992 | 29.70008 | 40.599847 |\n",
       "| 12 | 247540 |  4.325061 | 71.82758 | 28.17242 | 43.655167 |\n",
       "\n"
      ],
      "text/plain": [
       "   month count  %         members_p casual_p Member x Casual Perc Difer\n",
       "1  01    103770  1.813087 82.15284  17.84716 64.305676                 \n",
       "2  02    115609  2.019940 81.47549  18.52451 62.950981                 \n",
       "3  03    284040  4.962796 68.35657  31.64343 36.713139                 \n",
       "4  04    337225  5.892053 59.49262  40.50738 18.985247                 \n",
       "5  05    531631  9.288748 51.67400  48.32600  3.347999                 \n",
       "6  06    729590 12.747522 49.19366  50.80634 -1.612687                 \n",
       "7  07    822397 14.369062 46.24883  53.75117 -7.502338                 \n",
       "8  08    804323 14.053270 48.69449  51.30551 -2.611016                 \n",
       "9  09    756111 13.210901 51.87439  48.12561  3.748788                 \n",
       "10 10    631226 11.028889 59.24724  40.75276 18.494485                 \n",
       "11 11    359925  6.288671 70.29992  29.70008 40.599847                 \n",
       "12 12    247540  4.325061 71.82758  28.17242 43.655167                 "
      ]
     },
     "metadata": {},
     "output_type": "display_data"
    }
   ],
   "source": [
    "df3 %>%\n",
    "    group_by(month) %>%\n",
    "    summarise(count = length(ride_id),\n",
    "              '%' = (length(ride_id) / nrow(df3)) * 100,\n",
    "              'members_p' = (sum(member_casual == \"member\") / length(ride_id)) * 100,\n",
    "              'casual_p' = (sum(member_casual == \"casual\") / length(ride_id)) * 100,\n",
    "              'Member x Casual Perc Difer' = members_p - casual_p)"
   ]
  },
  {
   "cell_type": "code",
   "execution_count": 22,
   "id": "712dc883",
   "metadata": {
    "execution": {
     "iopub.execute_input": "2023-01-30T16:19:23.505559Z",
     "iopub.status.busy": "2023-01-30T16:19:23.503599Z",
     "iopub.status.idle": "2023-01-30T16:19:35.422586Z",
     "shell.execute_reply": "2023-01-30T16:19:35.421019Z"
    },
    "papermill": {
     "duration": 11.970458,
     "end_time": "2023-01-30T16:19:35.422807",
     "exception": false,
     "start_time": "2023-01-30T16:19:23.452349",
     "status": "completed"
    },
    "tags": []
   },
   "outputs": [
    {
     "data": {
      "image/png": "[encoded data removed]"
     },
     "metadata": {
      "image/png": {
       "height": 420,
       "width": 420
      }
     },
     "output_type": "display_data"
    }
   ],
   "source": [
    "df3 %>%\n",
    "  ggplot(aes(month, fill=member_casual)) +\n",
    "    geom_bar() +\n",
    "    labs(x=\"Month\", title=\"Chart 02 - Distribution by month\") +\n",
    "    coord_flip()"
   ]
  },
  {
   "cell_type": "markdown",
   "id": "62e12bcb",
   "metadata": {
    "papermill": {
     "duration": 0.048725,
     "end_time": "2023-01-30T16:19:35.522183",
     "exception": false,
     "start_time": "2023-01-30T16:19:35.473458",
     "status": "completed"
    },
    "tags": []
   },
   "source": [
    "Some considerations can be taken by this chart:\n",
    "* There's more data points at the last semester of 2022.\n",
    "* The month with the biggest count of data points was October.\n",
    "* In all months we have more members' rides than casual rides (Maybe because of returning members).\n",
    "* The difference of proporcion of member x casual is smaller in the last semester of 2022.\n",
    "\n",
    "The distribution looks cyclical. Let's compare it with climate data for Chicago.\n",
    "The data will be taken by [Climate of Chicago](https://en.wikipedia.org/wiki/Climate_of_Chicago) (Daily mean °C, 1991–2022)."
   ]
  },
  {
   "cell_type": "code",
   "execution_count": 23,
   "id": "366e7bc8",
   "metadata": {
    "execution": {
     "iopub.execute_input": "2023-01-30T16:19:35.624356Z",
     "iopub.status.busy": "2023-01-30T16:19:35.623041Z",
     "iopub.status.idle": "2023-01-30T16:19:35.901157Z",
     "shell.execute_reply": "2023-01-30T16:19:35.900172Z"
    },
    "papermill": {
     "duration": 0.330721,
     "end_time": "2023-01-30T16:19:35.901312",
     "exception": false,
     "start_time": "2023-01-30T16:19:35.570591",
     "status": "completed"
    },
    "tags": []
   },
   "outputs": [
    {
     "data": {
      "image/png": "[encoded data removed]"
     },
     "metadata": {
      "image/png": {
       "height": 420,
       "width": 420
      }
     },
     "output_type": "display_data"
    }
   ],
   "source": [
    "chicago_mean_temp <- c(-3.2, -1.2, 4.4, 10.5, 16.6, 22.2, 24.8, 23.9, 19.9, 12.9, 5.8, -0.3)\n",
    "month <- c(\"001 - Jan\",\"002 - Feb\",\"003 - Mar\",\"004 - Apr\",\"005 - May\",\"006 - Jun\",\"007 - Jul\",\"008 - Aug\",\"009 - Sep\",\"010 - Oct\",\"011 - Nov\",\"012 - Dec\")\n",
    "\n",
    "data.frame(month, chicago_mean_temp) %>%\n",
    "    ggplot(aes(x=month, y=chicago_mean_temp)) +\n",
    "    labs(x=\"Month\", y=\"Mean temperature\", title=\"Chart 03 - Mean temperature for Chicago (1991-2022)\") +\n",
    "    geom_col()\n"
   ]
  },
  {
   "cell_type": "markdown",
   "id": "7bb6bb2b",
   "metadata": {
    "papermill": {
     "duration": 0.052332,
     "end_time": "2023-01-30T16:19:36.005339",
     "exception": false,
     "start_time": "2023-01-30T16:19:35.953007",
     "status": "completed"
    },
    "tags": []
   },
   "source": [
    "The main takeaway is:\n",
    "* Temperature heavily influence the volume of rides in the month."
   ]
  },
  {
   "cell_type": "code",
   "execution_count": 24,
   "id": "b3cb292b",
   "metadata": {
    "execution": {
     "iopub.execute_input": "2023-01-30T16:19:36.115711Z",
     "iopub.status.busy": "2023-01-30T16:19:36.114166Z",
     "iopub.status.idle": "2023-01-30T16:19:53.294650Z",
     "shell.execute_reply": "2023-01-30T16:19:53.293323Z"
    },
    "papermill": {
     "duration": 17.237562,
     "end_time": "2023-01-30T16:19:53.294824",
     "exception": false,
     "start_time": "2023-01-30T16:19:36.057262",
     "status": "completed"
    },
    "tags": []
   },
   "outputs": [
    {
     "name": "stderr",
     "output_type": "stream",
     "text": [
      "Warning message:\n",
      "“tz(): Don't know how to compute timezone for object of class factor; returning \"UTC\". This warning will become an error in the next major version of lubridate.”\n",
      "`summarise()` has grouped output by 'member_casual'. You can override using the `.groups` argument.\n",
      "\n",
      "Don't know how to automatically pick scale for object of type difftime. Defaulting to continuous.\n",
      "\n"
     ]
    },
    {
     "data": {
      "image/png": "[encoded data removed]"
     },
     "metadata": {
      "image/png": {
       "height": 420,
       "width": 420
      }
     },
     "output_type": "display_data"
    }
   ],
   "source": [
    "# Let's create a visualization for average duration\n",
    "df3 %>% \n",
    "  mutate(weekday = wday(started_at, label = TRUE)) %>% \n",
    "  group_by(member_casual, weekday) %>% \n",
    "  summarise(number_of_rides = n()\n",
    "            ,average_duration = mean(duration)) %>% \n",
    "  arrange(member_casual, weekday)  %>% \n",
    "  ggplot(aes(x = weekday, y = average_duration, fill = member_casual)) +\n",
    "  geom_col(position = \"dodge\")"
   ]
  },
  {
   "cell_type": "markdown",
   "id": "2f379a67",
   "metadata": {
    "papermill": {
     "duration": 0.053386,
     "end_time": "2023-01-30T16:19:53.400884",
     "exception": false,
     "start_time": "2023-01-30T16:19:53.347498",
     "status": "completed"
    },
    "tags": []
   },
   "source": [
    "<a id=\"analyze-guiding\"></a>\n",
    "## Guiding questions\n",
    "\n",
    "* **How should you organize your data to perform analysis on it?**\n",
    "\n",
    "The data has been organized into a single CSV concatenating all the files from the dataset.\n",
    "\n",
    "* **Has your data been properly formatted?**\n",
    "\n",
    "Yes, all the columns have their correct data type.\n",
    "\n",
    "* **What surprises did you discover in the data?**\n",
    "\n",
    "One of the main surprises is how members differ from casuals when analysed from weekdays. Also that members have less riding time than casual.\n",
    "\n",
    "* **What trends or relationships did you find in the data?**\n",
    "    * There are more members than casuals in the dataset.\n",
    "    * There are more data points in the last semester of 2022.\n",
    "    * There are more of a difference between the flow of members/casual from midweek to weekends.\n",
    "    * Members use bikes on schedules that differs from casual.\n",
    "    * Members have less riding time.\n",
    "    * Members tend to prefer docked bikes.\n",
    "\n",
    "\n",
    "* **How will these insights help answer your business questions?**\n",
    "\n",
    "This insights helps to build a profile for members."
   ]
  },
  {
   "cell_type": "markdown",
   "id": "75c521fe",
   "metadata": {
    "execution": {
     "iopub.execute_input": "2021-06-03T00:33:48.481028Z",
     "iopub.status.busy": "2021-06-03T00:33:48.478523Z",
     "iopub.status.idle": "2021-06-03T00:33:48.498006Z"
    },
    "papermill": {
     "duration": 0.055736,
     "end_time": "2023-01-30T16:19:53.509775",
     "exception": false,
     "start_time": "2023-01-30T16:19:53.454039",
     "status": "completed"
    },
    "tags": []
   },
   "source": [
    "<a id=\"analyze-key\"></a>\n",
    "## Key tasks\n",
    "\n",
    "- [x] Aggregate your data so it’s useful and accessible.\n",
    "- [x] Organize and format your data.\n",
    "- [x] Perform calculations.\n",
    "- [x] Identify trends and relationships."
   ]
  },
  {
   "cell_type": "markdown",
   "id": "cc8e404a",
   "metadata": {
    "papermill": {
     "duration": 0.055518,
     "end_time": "2023-01-30T16:19:53.620341",
     "exception": false,
     "start_time": "2023-01-30T16:19:53.564823",
     "status": "completed"
    },
    "tags": []
   },
   "source": [
    "<a id=\"analyze-deliverable\"></a>\n",
    "## Deliverable\n",
    "\n",
    "- [x] A summary of your analysis"
   ]
  },
  {
   "cell_type": "markdown",
   "id": "57bc7452",
   "metadata": {
    "papermill": {
     "duration": 0.052605,
     "end_time": "2023-01-30T16:19:53.725828",
     "exception": false,
     "start_time": "2023-01-30T16:19:53.673223",
     "status": "completed"
    },
    "tags": []
   },
   "source": [
    "<a id=\"share\"></a>\n",
    "# Share\n",
    "\n",
    "The share phase is usually done by building a presentation. But for kaggle, the best representation of the analysis and conclusions is it's own notebook.\n",
    "\n",
    "Let's go through the main finds and try to arrive at a conclusion.\n",
    "\n",
    "\n",
    "What we know about the dataset:\n",
    "* Members have the biggest proportion of the dataset.\n",
    "* There's more data points at the last semester of 2022.\n",
    "* The month with the biggest count of data points was october.\n",
    "* In all months we have more members' rides than casual rides.\n",
    "* The difference of proporcion of member x casual is smaller in the last semester of 2022.\n",
    "* Temperature heavily influences the volume of rides in the month.\n",
    "\n",
    "\n",
    "It's possible to notice that the distribution of rides by month is cyclical through years, as seen on chart 02 and it's influenced by the temperature. The remaining question is: Why are there more members than casual? One plausible answer is that members have a bigger need for the bikes than casuals, as can be seen on how there are more members than casuals on cold months.\n",
    "\n",
    "Besides that, we have more bike rides on the weekends. Maybe because on those days the bikes were utilized for more recreational ways.\n",
    "\n",
    "Now for how members differs from casuals:\n",
    "* Members may have the biggest volume of data, besides on saturday. On this weekday, casuals take place as having the most data points.\n",
    "* Weekends have the biggest volume of casuals, starting on friday.\n",
    "* Members have a bigger preference for classic bikes, 56% more.\n",
    "* Casuals have more riding time than members.\n",
    "* Riding time for members keeps unchanged during the midweek, increasing during weekends.\n",
    "* Casuals follow a more curve distribution, peaking on sundays and valleying on wednesday/thursday.\n",
    "\n",
    "What we can take from this information is that members have a more fixed use for bikes besides casuals. Their uses is for more routine activities, like:\n",
    "* Go to work.\n",
    "* Use it as an exercise.\n",
    "\n",
    "This can be proven we state that members may have set routes when using the bikes, as proven by *riding time for members keeps unchanged during the midweek, increasing during weekends*. The bikes is also \n",
    "heavily used for recreation on the weekends, when riding time increases and casuals take place. \n",
    "\n",
    "Members also have a bigger preference for classic bikes, so they can exercise when going to work.\n",
    "\n",
    "Concluding:\n",
    "* Members use the bikes for fixed activities, one of those is going to work.\n",
    "* Bikes are used for recreation on the weekends.\n",
    "* Rides are influenced by temperature.\n"
   ]
  },
  {
   "cell_type": "markdown",
   "id": "367c0b30",
   "metadata": {
    "execution": {
     "iopub.execute_input": "2021-06-03T02:09:14.765232Z",
     "iopub.status.busy": "2021-06-03T02:09:14.763399Z",
     "iopub.status.idle": "2021-06-03T02:09:14.777361Z"
    },
    "papermill": {
     "duration": 0.05773,
     "end_time": "2023-01-30T16:19:53.838107",
     "exception": false,
     "start_time": "2023-01-30T16:19:53.780377",
     "status": "completed"
    },
    "tags": []
   },
   "source": [
    "<a id=\"act\"></a>\n",
    "# Act\n",
    "\n",
    "The act phase would be done by the marketing team of the company. The main takeaway will be the top three recommendations for the marketing."
   ]
  },
  {
   "cell_type": "markdown",
   "id": "0fa4675c",
   "metadata": {
    "papermill": {
     "duration": 0.052994,
     "end_time": "2023-01-30T16:19:53.947242",
     "exception": false,
     "start_time": "2023-01-30T16:19:53.894248",
     "status": "completed"
    },
    "tags": []
   },
   "source": [
    "<a id=\"act-guiding\"></a>\n",
    "## Guiding questions\n",
    "\n",
    "* **What is your final conclusion based on your analysis?**\n",
    "\n",
    "Members and casual have different habits when using the bikes. The conclusion is further stated on the share phase.\n",
    "\n",
    "* **How could your team and business apply your insights?**\n",
    "\n",
    "The insights could be implemented when preparing a marketing campaign for turning casual into members. The marketing can have a focus on workers as a green way to get to work.\n",
    "\n",
    "* **What next steps would you or your stakeholders take based on your findings?**\n",
    "\n",
    "Further analysis could be done to improve the findings, besides that, the marketing team can take the main information to build a marketing campaign.\n",
    "\n",
    "* **Is there additional data you could use to expand on your findings?**\n",
    "    * Mobility data.\n",
    "    * Improved climate data.\n",
    "    * More information members."
   ]
  },
  {
   "cell_type": "markdown",
   "id": "9cc9989e",
   "metadata": {
    "papermill": {
     "duration": 0.054378,
     "end_time": "2023-01-30T16:19:54.054839",
     "exception": false,
     "start_time": "2023-01-30T16:19:54.000461",
     "status": "completed"
    },
    "tags": []
   },
   "source": [
    "<a id=\"act-deliverable\"></a>\n",
    "## Deliverable\n",
    "\n",
    "* My top three recommendations based on your analysis\n",
    "1. Build a marketing campaign focusing on show how bikes help people to get to work, while maintaining the planet green and avoid traffic. The ads could be show on  professional social networks.\n",
    "2. Increase benefits for riding during cold months. Coupons and discounts could be handed out.\n",
    "3. As the bikes are also used for recreations on the weekends, ads campaigns could also be made showing people using the bikes for exercise during the weeks. The ads could focus on how practical and **consistent** the bikes can be."
   ]
  },
  {
   "cell_type": "markdown",
   "id": "ab3471da",
   "metadata": {
    "papermill": {
     "duration": 0.05233,
     "end_time": "2023-01-30T16:19:54.158723",
     "exception": false,
     "start_time": "2023-01-30T16:19:54.106393",
     "status": "completed"
    },
    "tags": []
   },
   "source": [
    "<a id=\"conclusion\"></a>\n",
    "# Conclusion\n",
    "\n",
    "The [Google Analytics Professional Certificate](https://www.coursera.org/professional-certificates/google-data-analytics?utm_source=gg&utm_medium=sem&utm_campaign=15-GoogleDataAnalytics-LATAM&utm_content=15-GoogleDataAnalytics-LATAM&campaignid=12686019520&adgroupid=120140812253&device=c&keyword=google%20analytics%20course&matchtype=b&network=g&devicemodel=&adpostion=&creativeid=512414119178&hide_mobile_promo&gclid=EAIaIQobChMIwPGyn7f68AIVAgyRCh2nCwfVEAAYAyAAEgKjpvD_BwE) teached me a lot and the R language is really useful for analysing data (although I prefer preffer pandas). This took me more time than I expected, but it was fun.\n",
    "\n",
    "Sorry for my bad english during the notebook. And thanks for anyone who is reading this."
   ]
  }
 ],
 "metadata": {
  "kernelspec": {
   "display_name": "R",
   "language": "R",
   "name": "ir"
  },
  "language_info": {
   "codemirror_mode": "r",
   "file_extension": ".r",
   "mimetype": "text/x-r-source",
   "name": "R",
   "pygments_lexer": "r",
   "version": "3.6.3"
  },
  "papermill": {
   "default_parameters": {},
   "duration": 1193.804192,
   "end_time": "2023-01-30T16:19:56.846841",
   "environment_variables": {},
   "exception": null,
   "input_path": "__notebook__.ipynb",
   "output_path": "__notebook__.ipynb",
   "parameters": {},
   "start_time": "2023-01-30T16:00:03.042649",
   "version": "2.3.3"
  }
 },
 "nbformat": 4,
 "nbformat_minor": 5
}
